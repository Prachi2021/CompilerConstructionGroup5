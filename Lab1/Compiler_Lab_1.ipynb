{
  "cells": [
    {
      "cell_type": "code",
      "execution_count": null,
      "metadata": {},
      "outputs": [],
      "source": [
        "136291 Shubh Patel\t\n",
        "135736 Sheikh Ali \n",
        "137223 Prachi Patel\t\n",
        "135251 Evans Okania\t\n",
        "136730 Kevin Kipkoech\t\n",
        "116827 Kweyu Nicolas Anelka\t\n",
        "136663 Sean Kimutai \t"
      ]
    },
    {
      "cell_type": "code",
      "execution_count": null,
      "metadata": {
        "colab": {
          "base_uri": "https://localhost:8080/"
        },
        "id": "ivlBbPV7xVA9",
        "outputId": "196b3792-2151-4fe8-fee6-b9f4d643fe0d"
      },
      "outputs": [
        {
          "name": "stdout",
          "output_type": "stream",
          "text": [
            "Which\n",
            "group\n",
            "has\n",
            "worked\n",
            "on\n",
            "this\n",
            "lab?\n",
            "It\n",
            "is\n",
            "group\n",
            "5.\n"
          ]
        }
      ],
      "source": [
        "# A function to split sentences into individual words\n",
        "def split_sentence(stnc):\n",
        "    words = stnc.split()\n",
        "    return words\n",
        "\n",
        "# Input sentence\n",
        "input_sentence = input(\"Enter an English sentence(s): \")\n",
        "\n",
        "# Split the input sentence to extract the words\n",
        "words_arr = split_sentence(input_sentence)\n",
        "\n",
        "# Print each word on a separate line\n",
        "for word in words_arr:\n",
        "    print(word)"
      ]
    }
  ],
  "metadata": {
    "colab": {
      "provenance": []
    },
    "kernelspec": {
      "display_name": "Python 3",
      "name": "python3"
    },
    "language_info": {
      "codemirror_mode": {
        "name": "ipython",
        "version": 3
      },
      "file_extension": ".py",
      "mimetype": "text/x-python",
      "name": "python",
      "nbconvert_exporter": "python",
      "pygments_lexer": "ipython3",
      "version": "3.10.9"
    }
  },
  "nbformat": 4,
  "nbformat_minor": 0
}
