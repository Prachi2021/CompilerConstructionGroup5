{
  "cells": [
    {
      "cell_type": "code",
      "execution_count": null,
      "metadata": {},
      "outputs": [],
      "source": [
        "'''\n",
        "136291 Shubh Patel\t\n",
        "135736 Sheikh Ali \n",
        "137223 Prachi Patel\t\n",
        "135251 Evans Okania\t\n",
        "136730 Kevin Kipkoech\t\n",
        "116827 Kweyu Nicolas Anelka\t\n",
        "136663 Sean Kimutai \n",
        "134786 Ryan Lagat\t\n",
        "'''"
      ]
    },
    {
      "cell_type": "code",
      "execution_count": null,
      "metadata": {},
      "outputs": [],
      "source": [
        "# Define the CFG\n",
        "grammar = {\n",
        "    'S': ['AB'],\n",
        "    'A': ['aA', 'ε'],\n",
        "    'B': ['bB', 'ε']\n",
        "}\n",
        "\n",
        "# Determine the terminals and non-terminals sets\n",
        "terminals = {'a', 'b', 'ε'}\n",
        "non_terminals = {'S', 'A', 'B'}\n",
        "\n",
        "parsing_table = {} #initialize parsing table"
      ]
    },
    {
      "cell_type": "code",
      "execution_count": null,
      "metadata": {},
      "outputs": [],
      "source": [
        "# Function to compute First set for a symbol\n",
        "def first(symbol):\n",
        "    first_set = set()\n",
        "\n",
        "    if symbol in terminals:\n",
        "        first_set.add(symbol)\n",
        "    elif symbol in non_terminals:\n",
        "        for production in grammar[symbol]:\n",
        "            if production[0] == 'ε':\n",
        "                first_set.add('ε')\n",
        "            else:\n",
        "                first_s = first(production[0])\n",
        "                first_set.update(first_s)\n",
        "\n",
        "    return first_set\n",
        "\n",
        "# Function to compute Follow set for each non-terminal\n",
        "def follow(non_terminal):\n",
        "    follow_set = set()\n",
        "\n",
        "    for key in grammar:\n",
        "        for production in grammar[key]:\n",
        "            if non_terminal in production:\n",
        "                index = production.index(non_terminal)\n",
        "\n",
        "                if index == len(production) - 1:\n",
        "                    if key != non_terminal:\n",
        "                        follow_set.update(follow(key))\n",
        "                else:\n",
        "                    first_s = first(production[index + 1])\n",
        "                    follow_set.update(first_s - {'ε'})\n",
        "                    if 'ε' in first_s:\n",
        "                        follow_set.update(follow(key))\n",
        "\n",
        "    return follow_set"
      ]
    },
    {
      "cell_type": "code",
      "execution_count": 3,
      "metadata": {
        "colab": {
          "base_uri": "https://localhost:8080/"
        },
        "id": "aMTTilOu6-VA",
        "outputId": "ced4deab-1604-4e91-b6ef-dbbdad381336"
      },
      "outputs": [
        {
          "name": "stdout",
          "output_type": "stream",
          "text": [
            "LL(1) Parsing Table:\n",
            "('B', 'b'): ['bB']\n",
            "('B', 'a'): []\n",
            "('S', 'b'): []\n",
            "('S', 'a'): ['AB']\n",
            "('A', 'b'): ['ε']\n",
            "('A', 'a'): ['aA']\n"
          ]
        }
      ],
      "source": [
        "# Construct the LL(1) parsing table\n",
        "for non_terminal in non_terminals:\n",
        "    for terminal in terminals:\n",
        "      if terminal == 'ε':\n",
        "        continue\n",
        "      parsing_table[(non_terminal, terminal)] = []\n",
        "      \n",
        "# Map a pair (non-terminal, terminal) to a list of productions.\n",
        "for non_terminal in non_terminals:\n",
        "    for production in grammar[non_terminal]:\n",
        "        first_set = first(production[0])\n",
        "        for symbol in first_set:\n",
        "            if symbol != 'ε':\n",
        "                parsing_table[(non_terminal, symbol)].append(production)\n",
        "\n",
        "        if 'ε' in first_set:\n",
        "            follow_set = follow(non_terminal)\n",
        "            for symbol in follow_set:\n",
        "                parsing_table[(non_terminal, symbol)].append(production)\n",
        "\n",
        "# Print the LL(1) parsing table\n",
        "print(\"LL(1) Parsing Table:\")\n",
        "for key, value in parsing_table.items():\n",
        "    print(f\"{key}: {value}\")\n",
        "\n"
      ]
    },
    {
      "cell_type": "code",
      "execution_count": null,
      "metadata": {
        "id": "jap5cydS8G13"
      },
      "outputs": [],
      "source": []
    }
  ],
  "metadata": {
    "colab": {
      "provenance": []
    },
    "kernelspec": {
      "display_name": "Python 3",
      "name": "python3"
    },
    "language_info": {
      "name": "python"
    }
  },
  "nbformat": 4,
  "nbformat_minor": 0
}
