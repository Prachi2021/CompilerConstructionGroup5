{
  "cells": [
    {
      "cell_type": "code",
      "execution_count": null,
      "metadata": {},
      "outputs": [],
      "source": [
        "'''\n",
        "136291 Shubh Patel\t\n",
        "135736 Sheikh Ali \n",
        "137223 Prachi Patel\t\n",
        "135251 Evans Okania\t\n",
        "136730 Kevin Kipkoech\t\n",
        "116827 Kweyu Nicolas Anelka\t\n",
        "136663 Sean Kimutai \n",
        "134786 Ryan Lagat\t\n",
        "\n",
        "'''"
      ]
    },
    {
      "cell_type": "code",
      "execution_count": 1,
      "metadata": {
        "colab": {
          "base_uri": "https://localhost:8080/"
        },
        "id": "KQhS_XfmoCc7",
        "outputId": "e0c01ebf-2d02-4550-f760-501b1a41a3ef"
      },
      "outputs": [],
      "source": [
        "import re  # Importing Regular Expressions module to match patterns\n",
        "\n",
        "def single_line_comment(line):\n",
        "    return line.strip().startswith('#')\n",
        "\n",
        "def multi_line_comment_start(line):\n",
        "    return re.match(r'^\\s*[\\'\"]{3}', line)  # Regular Expression to determine the start of the multi-line comment\n",
        "\n",
        "def multi_line_comment_end(line):\n",
        "    return re.match(r'^.*[\\'\"]{3}\\s*$', line)  # Regular Expression to determine the end of the multi-line comment\n",
        "\n",
        "def inline_comment(line):\n",
        "    return '#' in line"
      ]
    },
    {
      "cell_type": "code",
      "execution_count": 3,
      "metadata": {},
      "outputs": [],
      "source": [
        "def find_comments(code_lines):\n",
        "    # Initializing lists to store different types of comments and code without comments\n",
        "    single_line_comments = []\n",
        "    multi_line_comments = []\n",
        "    inline_comments = []\n",
        "    code_without_comments = []\n",
        "\n",
        "    multi_line_comment = None #  tracker for multi-line comments\n",
        "\n",
        "    for line in code_lines:\n",
        "        if multi_line_comment:\n",
        "            multi_line_comment += line + '\\n' # Add the line to multi-line comment tracker\n",
        "            if multi_line_comment_end(line):\n",
        "                multi_line_comments.append(multi_line_comment)  # Add the whole multi-line comment to the array\n",
        "                multi_line_comment = None  # Reset the multi-line comment tracker\n",
        "        elif single_line_comment(line):\n",
        "            single_line_comments.append(line)\n",
        "        else:\n",
        "            if multi_line_comment_start(line):\n",
        "                multi_line_comment = line + '\\n'\n",
        "            elif inline_comment(line):\n",
        "                parts = line.split('#', 1) # Separate inline comment from rest of the code\n",
        "                code_without_comments.append(parts[0])\n",
        "                inline_comments.append(line)\n",
        "            else:\n",
        "                code_without_comments.append(line)\n",
        "\n",
        "    return single_line_comments, multi_line_comments, inline_comments, code_without_comments"
      ]
    },
    {
      "cell_type": "code",
      "execution_count": 4,
      "metadata": {},
      "outputs": [],
      "source": [
        "# Declaring example comments\n",
        "code = [\n",
        "    \"print('Hello world!')  # Not a comment\",  # non-comment\n",
        "    \"# This is a single-line comment\",  # Single-line comment\n",
        "    \"name = 'John Doe'  # This is an inline comment\",  # Inline comment\n",
        "    \"''' This is a multi-line\",  # Multi-line comment\n",
        "    \"   comment in Python syntax '''\",\n",
        "    \"This is not a comment\",  # non-comment\n",
        "    \"a = b + c  # Another inline comment\",  # Inline comment\n",
        "]"
      ]
    },
    {
      "cell_type": "code",
      "execution_count": 5,
      "metadata": {},
      "outputs": [
        {
          "name": "stdout",
          "output_type": "stream",
          "text": [
            "Single Line Comments:\n",
            "# This is a single-line comment\n",
            "\n",
            "Multi Line Comments:\n",
            "''' This is a multi-line\n",
            "   comment in Python syntax '''\n",
            "\n",
            "\n",
            "Inline Comments:\n",
            "print('Hello world!')  # Not a comment\n",
            "name = 'John Doe'  # This is an inline comment\n",
            "a = b + c  # Another inline comment\n",
            "\n",
            "Code without Comments:\n",
            "print('Hello world!')  \n",
            "name = 'John Doe'  \n",
            "This is not a comment\n",
            "a = b + c  \n"
          ]
        }
      ],
      "source": [
        "single_comments, multi_comments, inline_comments, code_without_comments = find_comments(code)\n",
        "\n",
        "print(\"Single Line Comments:\")\n",
        "for line in single_comments:\n",
        "    print(line)\n",
        "\n",
        "print(\"\\nMulti Line Comments:\")\n",
        "for line in multi_comments:\n",
        "    print(line)\n",
        "\n",
        "print(\"\\nInline Comments:\")\n",
        "for line in inline_comments:\n",
        "    print(line)\n",
        "\n",
        "print(\"\\nCode without Comments:\")\n",
        "for line in code_without_comments:\n",
        "    print(line)"
      ]
    },
    {
      "cell_type": "markdown",
      "metadata": {
        "id": "023CAcCQpuZr"
      },
      "source": [
        "###LOGIC USED\n",
        "\n",
        "\n",
        "*   The program above is composed of different helper functions which were used to check for comment types and comment indicators\n",
        "\n",
        "   - `single_line_comment(line)`: Checks if the line is a single-line comment starting with a '#' symbol.\n",
        "   - `multi_line_comment_start(line)`: Checks if the line starts a multi-line comment using triple single or double quotes (''' or \"\"\").\n",
        "   - `multi_line_comment_end(line)`: Checks if the line ends a multi-line comment with triple quotes.\n",
        "   - `inline_comment(line)`: Checks if the line contains an inline comment with a '#' symbol.\n",
        "\n",
        "*   The `find_comments(code)` function is the main logic for identifying and categorizing comments in the code.\n",
        "\n",
        "\n",
        "\n",
        "\n"
      ]
    },
    {
      "cell_type": "markdown",
      "metadata": {
        "id": "ngRAZQ-9snHc"
      },
      "source": [
        "###Lexical and Syntax Analysis concepts.\n",
        "*   This program demonstrated usage of lexical analysis which involves breaking down stream of code into individual tokens. In this case (in the helper functions) this was done using regular expressions to match specific patterns. This assisted in identifying and distinguishing between comments and non-comments and also specifying the type of comment.\n",
        "\n",
        "\n"
      ]
    }
  ],
  "metadata": {
    "colab": {
      "provenance": []
    },
    "kernelspec": {
      "display_name": "tfodj",
      "language": "python",
      "name": "tfodj"
    },
    "language_info": {
      "codemirror_mode": {
        "name": "ipython",
        "version": 3
      },
      "file_extension": ".py",
      "mimetype": "text/x-python",
      "name": "python",
      "nbconvert_exporter": "python",
      "pygments_lexer": "ipython3",
      "version": "3.10.9"
    }
  },
  "nbformat": 4,
  "nbformat_minor": 0
}
